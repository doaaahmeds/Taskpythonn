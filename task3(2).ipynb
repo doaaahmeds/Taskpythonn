{
 "cells": [
  {
   "cell_type": "code",
   "execution_count": null,
   "id": "54b94c4a",
   "metadata": {},
   "outputs": [],
   "source": [
    "import networkx as nx\n",
    "%matplotlib inline"
   ]
  },
  {
   "cell_type": "code",
   "execution_count": null,
   "id": "0430cde6",
   "metadata": {},
   "outputs": [],
   "source": [
    "G = nx.Graph()\n",
    "G.add_nodes_from([1,2,3,4])\n",
    "G.add_edges_from([(1,2),(2,3),(3,1),(1,4)])\n",
    "nx.draw(G,with_labels=True,node_color=\"red\",font_color=\"white\")\n"
   ]
  },
  {
   "cell_type": "code",
   "execution_count": null,
   "id": "8a5573f9",
   "metadata": {},
   "outputs": [],
   "source": [
    "nx.has_path(G, 3, 4)"
   ]
  },
  {
   "cell_type": "code",
   "execution_count": null,
   "id": "0ea3ce4d",
   "metadata": {},
   "outputs": [],
   "source": [
    "list(nx.all_simple_paths(G,3,4))"
   ]
  },
  {
   "cell_type": "code",
   "execution_count": 7,
   "id": "81c7e325",
   "metadata": {},
   "outputs": [
    {
     "data": {
      "text/plain": [
       "[3, 1, 4]"
      ]
     },
     "execution_count": 7,
     "metadata": {},
     "output_type": "execute_result"
    }
   ],
   "source": [
    "nx.shortest_path(G,3,4)"
   ]
  },
  {
   "cell_type": "code",
   "execution_count": 17,
   "id": "a2988f9a",
   "metadata": {},
   "outputs": [
    {
     "data": {
      "text/plain": [
       "2"
      ]
     },
     "execution_count": 17,
     "metadata": {},
     "output_type": "execute_result"
    }
   ],
   "source": [
    "nx.shortest_path_length(G,3,4)"
   ]
  },
  {
   "cell_type": "code",
   "execution_count": 21,
   "id": "fac607f7",
   "metadata": {},
   "outputs": [
    {
     "data": {
      "text/plain": [
       "True"
      ]
     },
     "execution_count": 21,
     "metadata": {},
     "output_type": "execute_result"
    }
   ],
   "source": [
    "nx.is_connected(G)\n"
   ]
  },
  {
   "cell_type": "code",
   "execution_count": 76,
   "id": "f7d5810a",
   "metadata": {},
   "outputs": [
    {
     "data": {
      "image/png": "[encoded data removed]",
      "text/plain": [
       "<Figure size 432x288 with 1 Axes>"
      ]
     },
     "metadata": {},
     "output_type": "display_data"
    }
   ],
   "source": [
    "G=nx.Graph()\n",
    "nx.add_cycle(G,[1,2,3])\n",
    "G.add_edge(4,5)\n",
    "nx.draw(G,with_labels=True,node_color=\"green\",font_color=\"white\")"
   ]
  },
  {
   "cell_type": "code",
   "execution_count": 38,
   "id": "e2cf4678",
   "metadata": {},
   "outputs": [
    {
     "data": {
      "text/plain": [
       "False"
      ]
     },
     "execution_count": 38,
     "metadata": {},
     "output_type": "execute_result"
    }
   ],
   "source": [
    "nx.is_connected(G)"
   ]
  },
  {
   "cell_type": "code",
   "execution_count": 77,
   "id": "83a3bc65",
   "metadata": {},
   "outputs": [
    {
     "data": {
      "text/plain": [
       "False"
      ]
     },
     "execution_count": 77,
     "metadata": {},
     "output_type": "execute_result"
    }
   ],
   "source": [
    "nx.has_path(G, 3, 5)"
   ]
  },
  {
   "cell_type": "code",
   "execution_count": 79,
   "id": "2484d276",
   "metadata": {},
   "outputs": [
    {
     "data": {
      "text/plain": [
       "2"
      ]
     },
     "execution_count": 79,
     "metadata": {},
     "output_type": "execute_result"
    }
   ],
   "source": [
    "nx.number_connected_components(G)"
   ]
  },
  {
   "cell_type": "code",
   "execution_count": 80,
   "id": "0962a3c2",
   "metadata": {},
   "outputs": [
    {
     "data": {
      "text/plain": [
       "[{1, 2, 3}, {4, 5}]"
      ]
     },
     "execution_count": 80,
     "metadata": {},
     "output_type": "execute_result"
    }
   ],
   "source": [
    "list(nx.connected_components(G))\n"
   ]
  },
  {
   "cell_type": "code",
   "execution_count": 83,
   "id": "6035006d",
   "metadata": {},
   "outputs": [
    {
     "data": {
      "text/plain": [
       "3"
      ]
     },
     "execution_count": 83,
     "metadata": {},
     "output_type": "execute_result"
    }
   ],
   "source": [
    "comp=list(nx.connected_components(G))\n",
    "len(comp[0])"
   ]
  },
  {
   "cell_type": "code",
   "execution_count": 84,
   "id": "38ae670d",
   "metadata": {},
   "outputs": [
    {
     "data": {
      "text/plain": [
       "{1, 2, 3}"
      ]
     },
     "execution_count": 84,
     "metadata": {},
     "output_type": "execute_result"
    }
   ],
   "source": [
    "max(nx.connected_components(G),key=len)"
   ]
  },
  {
   "cell_type": "code",
   "execution_count": 85,
   "id": "c8c827f8",
   "metadata": {},
   "outputs": [
    {
     "data": {
      "text/plain": [
       "{4, 5}"
      ]
     },
     "execution_count": 85,
     "metadata": {},
     "output_type": "execute_result"
    }
   ],
   "source": [
    "min(nx.connected_components(G),key=len)"
   ]
  },
  {
   "cell_type": "code",
   "execution_count": 98,
   "id": "cc2b4b8d",
   "metadata": {},
   "outputs": [
    {
     "data": {
      "image/png": "[encoded data removed]",
      "text/plain": [
       "<Figure size 432x288 with 1 Axes>"
      ]
     },
     "metadata": {},
     "output_type": "display_data"
    }
   ],
   "source": [
    "core_nodes=max(nx.connected_components(G),key=len)\n",
    "core=G.subgraph(core_nodes)\n",
    "nx.draw(core,with_labels=True)"
   ]
  },
  {
   "cell_type": "code",
   "execution_count": 102,
   "id": "9316a1ea",
   "metadata": {},
   "outputs": [
    {
     "data": {
      "image/png": "[encoded data removed]",
      "text/plain": [
       "<Figure size 432x288 with 1 Axes>"
      ]
     },
     "metadata": {},
     "output_type": "display_data"
    }
   ],
   "source": [
    "D=nx.DiGraph()\n",
    "D.add_edges_from(\n",
    "[\n",
    "    (1,2),\n",
    "    (2,3),\n",
    "    (3,2), (3,4), (3,5),\n",
    "    (4,2), (4,5), (4,6),\n",
    "    (5,6),\n",
    "    (6,4),\n",
    "]\n",
    ")\n",
    "nx.draw(D, with_labels=True)\n"
   ]
  },
  {
   "cell_type": "code",
   "execution_count": 103,
   "id": "01547eac",
   "metadata": {},
   "outputs": [
    {
     "data": {
      "text/plain": [
       "True"
      ]
     },
     "execution_count": 103,
     "metadata": {},
     "output_type": "execute_result"
    }
   ],
   "source": [
    "nx.has_path(D,1,2)"
   ]
  },
  {
   "cell_type": "code",
   "execution_count": 105,
   "id": "34b11b0d",
   "metadata": {},
   "outputs": [
    {
     "data": {
      "text/plain": [
       "False"
      ]
     },
     "execution_count": 105,
     "metadata": {},
     "output_type": "execute_result"
    }
   ],
   "source": [
    "nx.has_path(D,4,1)"
   ]
  },
  {
   "cell_type": "code",
   "execution_count": 106,
   "id": "589d12aa",
   "metadata": {},
   "outputs": [
    {
     "data": {
      "text/plain": [
       "True"
      ]
     },
     "execution_count": 106,
     "metadata": {},
     "output_type": "execute_result"
    }
   ],
   "source": [
    "nx.has_path(D,1,4)"
   ]
  },
  {
   "cell_type": "code",
   "execution_count": 108,
   "id": "bb0a52f0",
   "metadata": {},
   "outputs": [
    {
     "data": {
      "text/plain": [
       "[2, 3, 5]"
      ]
     },
     "execution_count": 108,
     "metadata": {},
     "output_type": "execute_result"
    }
   ],
   "source": [
    "nx.shortest_path(D,2,5)"
   ]
  },
  {
   "cell_type": "code",
   "execution_count": 109,
   "id": "067ef65f",
   "metadata": {},
   "outputs": [
    {
     "data": {
      "text/plain": [
       "[5, 6, 4, 2]"
      ]
     },
     "execution_count": 109,
     "metadata": {},
     "output_type": "execute_result"
    }
   ],
   "source": [
    "nx.shortest_path(D,5,2)"
   ]
  },
  {
   "cell_type": "code",
   "execution_count": 112,
   "id": "bb3288e2",
   "metadata": {},
   "outputs": [
    {
     "data": {
      "text/plain": [
       "False"
      ]
     },
     "execution_count": 112,
     "metadata": {},
     "output_type": "execute_result"
    }
   ],
   "source": [
    "nx.is_strongly_connected(D)"
   ]
  },
  {
   "cell_type": "code",
   "execution_count": null,
   "id": "a6cfd6c1",
   "metadata": {},
   "outputs": [],
   "source": [
    "nx.is_weakly_connected(D)"
   ]
  },
  {
   "cell_type": "code",
   "execution_count": null,
   "id": "fce66d6e",
   "metadata": {},
   "outputs": [],
   "source": [
    "list(nx.strongly_connected_components(D))"
   ]
  },
  {
   "cell_type": "code",
   "execution_count": null,
   "id": "a2f37267",
   "metadata": {},
   "outputs": [],
   "source": [
    "E=open('Desktop/d.txt').read()\n"
   ]
  },
  {
   "cell_type": "code",
   "execution_count": 14,
   "id": "22a46b7f",
   "metadata": {},
   "outputs": [
    {
     "data": {
      "image/png": "[encoded data removed]",
      "text/plain": [
       "<Figure size 432x288 with 1 Axes>"
      ]
     },
     "metadata": {},
     "output_type": "display_data"
    }
   ],
   "source": [
    "G=nx.read_graphml('openflights_world.graphml')\n",
    "nx.draw(G,with_labels=True)\n"
   ]
  },
  {
   "cell_type": "code",
   "execution_count": 12,
   "id": "5e8af489",
   "metadata": {},
   "outputs": [
    {
     "data": {
      "text/plain": [
       "{'IATA': 'IND',\n",
       " 'name': 'Indianapolis International Airport',\n",
       " 'latitude': 39.7173,\n",
       " 'longitude': -86.294403}"
      ]
     },
     "execution_count": 12,
     "metadata": {},
     "output_type": "execute_result"
    }
   ],
   "source": [
    "G.nodes['IND']\n"
   ]
  },
  {
   "cell_type": "code",
   "execution_count": 13,
   "id": "a5f0e84c",
   "metadata": {},
   "outputs": [
    {
     "data": {
      "text/plain": [
       "'Indianapolis International Airport'"
      ]
     },
     "execution_count": 13,
     "metadata": {},
     "output_type": "execute_result"
    }
   ],
   "source": [
    "G.nodes['IND']['name']\n"
   ]
  },
  {
   "cell_type": "code",
   "execution_count": 15,
   "id": "832ce6af",
   "metadata": {},
   "outputs": [
    {
     "name": "stdout",
     "output_type": "stream",
     "text": [
      "NO\n"
     ]
    }
   ],
   "source": [
    "#EXERCISE 1\n",
    "direct_fligh=list(nx.shortest_path(G,'FAI','ALS'))\n",
    "if len(direct_fligh)>=3:\n",
    "    print(\"NO\")\n",
    "else:\n",
    "    print(\"YES\")"
   ]
  },
  {
   "cell_type": "code",
   "execution_count": 16,
   "id": "ca2198db",
   "metadata": {},
   "outputs": [],
   "source": [
    "#EXERCISE 2\n",
    "sh=list(nx.shortest_path(G,'FAI','ALS','IND'))\n"
   ]
  },
  {
   "cell_type": "code",
   "execution_count": 17,
   "id": "61168818",
   "metadata": {},
   "outputs": [
    {
     "name": "stdout",
     "output_type": "stream",
     "text": [
      "NO\n"
     ]
    }
   ],
   "source": [
    "#EXERCISE 3\n",
    "us_list=list(nx.connected_components(G))\n",
    "if len(us_list)>1:\n",
    "    print(\"NO\")\n",
    "else:\n",
    "    print(\"YES\")\n"
   ]
  },
  {
   "cell_type": "code",
   "execution_count": null,
   "id": "71bc3038",
   "metadata": {},
   "outputs": [],
   "source": []
  }
 ],
 "metadata": {
  "kernelspec": {
   "display_name": "Python 3 (ipykernel)",
   "language": "python",
   "name": "python3"
  },
  "language_info": {
   "codemirror_mode": {
    "name": "ipython",
    "version": 3
   },
   "file_extension": ".py",
   "mimetype": "text/x-python",
   "name": "python",
   "nbconvert_exporter": "python",
   "pygments_lexer": "ipython3",
   "version": "3.9.7"
  }
 },
 "nbformat": 4,
 "nbformat_minor": 5
}

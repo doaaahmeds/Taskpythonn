{
 "cells": [
  {
   "cell_type": "code",
   "execution_count": 57,
   "id": "d528d907",
   "metadata": {},
   "outputs": [],
   "source": [
    "import networkx as nx\n",
    "import numpy as py\n",
    "from collections import defaultdict\n",
    "%matplotlib inline"
   ]
  },
  {
   "cell_type": "code",
   "execution_count": 35,
   "id": "c72ac170",
   "metadata": {},
   "outputs": [
    {
     "data": {
      "image/png": "[encoded data removed]",
      "text/plain": [
       "<Figure size 432x288 with 1 Axes>"
      ]
     },
     "metadata": {},
     "output_type": "display_data"
    }
   ],
   "source": [
    "G = nx.Graph()\n",
    "G.add_node('a')\n",
    "nodes_to_add = ['b', 'c', 'd']\n",
    "G.add_nodes_from(nodes_to_add)\n",
    "edges_to_add = [('a', 'b'), ('a', 'c'), ('b', 'c'),('c','d')]\n",
    "G.add_edges_from(edges_to_add)\n",
    "nx.draw(G,with_labels=True,node_color='green',node_size=1500, font_color='black',font_size=16, )"
   ]
  },
  {
   "cell_type": "code",
   "execution_count": 27,
   "id": "3f1c04ba",
   "metadata": {},
   "outputs": [
    {
     "data": {
      "text/plain": [
       "NodeView(('a', 'b', 'c', 'd'))"
      ]
     },
     "execution_count": 27,
     "metadata": {},
     "output_type": "execute_result"
    }
   ],
   "source": [
    "G.nodes()\n"
   ]
  },
  {
   "cell_type": "code",
   "execution_count": 36,
   "id": "aa7692e4",
   "metadata": {},
   "outputs": [
    {
     "name": "stdout",
     "output_type": "stream",
     "text": [
      "a\n",
      "b\n",
      "c\n",
      "d\n"
     ]
    }
   ],
   "source": [
    "for node in G.nodes:\n",
    "    print(node)\n"
   ]
  },
  {
   "cell_type": "code",
   "execution_count": 37,
   "id": "63217108",
   "metadata": {},
   "outputs": [
    {
     "name": "stdout",
     "output_type": "stream",
     "text": [
      "('a', 'b')\n",
      "('a', 'c')\n",
      "('b', 'c')\n",
      "('c', 'd')\n"
     ]
    }
   ],
   "source": [
    "for edge in G.edges:\n",
    "    print(edge)"
   ]
  },
  {
   "cell_type": "code",
   "execution_count": 38,
   "id": "fb520a5c",
   "metadata": {},
   "outputs": [
    {
     "data": {
      "text/plain": [
       "4"
      ]
     },
     "execution_count": 38,
     "metadata": {},
     "output_type": "execute_result"
    }
   ],
   "source": [
    "G.number_of_nodes()"
   ]
  },
  {
   "cell_type": "code",
   "execution_count": 39,
   "id": "1fbcd1f0",
   "metadata": {},
   "outputs": [
    {
     "data": {
      "text/plain": [
       "4"
      ]
     },
     "execution_count": 39,
     "metadata": {},
     "output_type": "execute_result"
    }
   ],
   "source": [
    "G.number_of_edges()\n"
   ]
  },
  {
   "cell_type": "code",
   "execution_count": 40,
   "id": "d7d01da8",
   "metadata": {},
   "outputs": [
    {
     "name": "stdout",
     "output_type": "stream",
     "text": [
      "c\n"
     ]
    }
   ],
   "source": [
    "for neighbor in G.neighbors('d'):\n",
    "    print(neighbor)\n"
   ]
  },
  {
   "cell_type": "code",
   "execution_count": 42,
   "id": "b9f7e023",
   "metadata": {},
   "outputs": [
    {
     "data": {
      "text/plain": [
       "['a', 'b', 'd']"
      ]
     },
     "execution_count": 42,
     "metadata": {},
     "output_type": "execute_result"
    }
   ],
   "source": [
    "list(G.neighbors('c'))\n"
   ]
  },
  {
   "cell_type": "code",
   "execution_count": 43,
   "id": "9cd365a7",
   "metadata": {},
   "outputs": [
    {
     "data": {
      "text/plain": [
       "False"
      ]
     },
     "execution_count": 43,
     "metadata": {},
     "output_type": "execute_result"
    }
   ],
   "source": [
    "nx.is_tree(G)\n"
   ]
  },
  {
   "cell_type": "code",
   "execution_count": 44,
   "id": "edd1dda7",
   "metadata": {},
   "outputs": [
    {
     "data": {
      "text/plain": [
       "True"
      ]
     },
     "execution_count": 44,
     "metadata": {},
     "output_type": "execute_result"
    }
   ],
   "source": [
    "nx.is_connected(G)\n"
   ]
  },
  {
   "cell_type": "code",
   "execution_count": 45,
   "id": "53aa70b8",
   "metadata": {},
   "outputs": [
    {
     "data": {
      "text/plain": [
       "True"
      ]
     },
     "execution_count": 45,
     "metadata": {},
     "output_type": "execute_result"
    }
   ],
   "source": [
    "G.has_node('a')\n"
   ]
  },
  {
   "cell_type": "code",
   "execution_count": 47,
   "id": "e50d93c8",
   "metadata": {},
   "outputs": [
    {
     "data": {
      "text/plain": [
       "False"
      ]
     },
     "execution_count": 47,
     "metadata": {},
     "output_type": "execute_result"
    }
   ],
   "source": [
    "G.has_node('e')\n"
   ]
  },
  {
   "cell_type": "code",
   "execution_count": 48,
   "id": "79396290",
   "metadata": {},
   "outputs": [
    {
     "data": {
      "text/plain": [
       "True"
      ]
     },
     "execution_count": 48,
     "metadata": {},
     "output_type": "execute_result"
    }
   ],
   "source": [
    "'d' in G.nodes\n"
   ]
  },
  {
   "cell_type": "code",
   "execution_count": 50,
   "id": "f0540050",
   "metadata": {},
   "outputs": [
    {
     "data": {
      "text/plain": [
       "True"
      ]
     },
     "execution_count": 50,
     "metadata": {},
     "output_type": "execute_result"
    }
   ],
   "source": [
    "G.has_edge('b', 'a')\n"
   ]
  },
  {
   "cell_type": "code",
   "execution_count": 51,
   "id": "c6251ba5",
   "metadata": {},
   "outputs": [
    {
     "data": {
      "text/plain": [
       "False"
      ]
     },
     "execution_count": 51,
     "metadata": {},
     "output_type": "execute_result"
    }
   ],
   "source": [
    "G.has_edge('a', 'd')\n"
   ]
  },
  {
   "cell_type": "code",
   "execution_count": 52,
   "id": "f1a52f9d",
   "metadata": {},
   "outputs": [
    {
     "data": {
      "text/plain": [
       "True"
      ]
     },
     "execution_count": 52,
     "metadata": {},
     "output_type": "execute_result"
    }
   ],
   "source": [
    "('c', 'd') in G.edges\n"
   ]
  },
  {
   "cell_type": "code",
   "execution_count": 11,
   "id": "88bf3d5f",
   "metadata": {},
   "outputs": [
    {
     "data": {
      "text/plain": [
       "2"
      ]
     },
     "execution_count": 11,
     "metadata": {},
     "output_type": "execute_result"
    }
   ],
   "source": [
    "len(list(G.neighbors('a')))\n"
   ]
  },
  {
   "cell_type": "code",
   "execution_count": 12,
   "id": "3899ee8a",
   "metadata": {},
   "outputs": [
    {
     "data": {
      "text/plain": [
       "1"
      ]
     },
     "execution_count": 12,
     "metadata": {},
     "output_type": "execute_result"
    }
   ],
   "source": [
    "G.degree('d')"
   ]
  },
  {
   "cell_type": "code",
   "execution_count": 64,
   "id": "6863bd79",
   "metadata": {},
   "outputs": [
    {
     "data": {
      "image/png": "[encoded data removed]",
      "text/plain": [
       "<Figure size 432x288 with 1 Axes>"
      ]
     },
     "metadata": {},
     "output_type": "display_data"
    }
   ],
   "source": [
    "G = nx.Graph()\n",
    "\n",
    "G.add_nodes_from(['cat','dog','virus',13])\n",
    "\n",
    "G.add_edge('cat','dog')\n",
    "\n",
    "nx.draw(G, with_labels=True, font_color='white', node_size=1000)"
   ]
  },
  {
   "cell_type": "code",
   "execution_count": 65,
   "id": "922fffcd",
   "metadata": {},
   "outputs": [
    {
     "data": {
      "text/plain": [
       "False"
      ]
     },
     "execution_count": 65,
     "metadata": {},
     "output_type": "execute_result"
    }
   ],
   "source": [
    "nx.is_tree(G)\n"
   ]
  },
  {
   "cell_type": "code",
   "execution_count": 67,
   "id": "f4f2b48f",
   "metadata": {},
   "outputs": [
    {
     "data": {
      "text/plain": [
       "False"
      ]
     },
     "execution_count": 67,
     "metadata": {},
     "output_type": "execute_result"
    }
   ],
   "source": [
    "nx.is_connected(G)"
   ]
  },
  {
   "cell_type": "code",
   "execution_count": 72,
   "id": "3c0be21d",
   "metadata": {
    "scrolled": true
   },
   "outputs": [
    {
     "name": "stdout",
     "output_type": "stream",
     "text": [
      "#Ø§Ù„Ù…Ø¹Ø§Ø¯Ù„Ù‡ Ø§Ù„ØªØ±Ø¨ÙŠØ¹ÙŠÙ‡\n",
      "n= (-1 + sqrt(1 + (2 * 4 * x))) / 2\n",
      "-------------------------------------\n"
     ]
    }
   ],
   "source": [
    "print(open('Documents/ref.txt').read())"
   ]
  },
  {
   "cell_type": "code",
   "execution_count": 85,
   "id": "e868d382",
   "metadata": {},
   "outputs": [
    {
     "data": {
      "image/png": "[encoded data removed]",
      "text/plain": [
       "<Figure size 432x288 with 1 Axes>"
      ]
     },
     "metadata": {},
     "output_type": "display_data"
    }
   ],
   "source": [
    "D=nx.DiGraph()\n",
    "D.add_edges_from([(1,2),(1,3),(2,4),(2,5)])\n",
    "nx.draw(D, with_labels=True, font_color='white', node_size=1000)"
   ]
  },
  {
   "cell_type": "code",
   "execution_count": 29,
   "id": "008cd49b",
   "metadata": {},
   "outputs": [
    {
     "name": "stdout",
     "output_type": "stream",
     "text": [
      "['d']\n"
     ]
    }
   ],
   "source": [
    "#EXERCISE 1\n",
    "list_leaf=[]\n",
    "def get_leaves(G):\n",
    "    for i in G.nodes:\n",
    "        if G.degree(i)==1:\n",
    "            list_leaf.append(i)\n",
    "    return(list_leaf)    \n",
    "\n",
    "\n",
    "print( get_leaves(G))"
   ]
  },
  {
   "cell_type": "code",
   "execution_count": 30,
   "id": "f0fbedb8",
   "metadata": {},
   "outputs": [
    {
     "name": "stdout",
     "output_type": "stream",
     "text": [
      "('c', 3)\n"
     ]
    }
   ],
   "source": [
    "\n",
    "#EXERCISE 2\n",
    "\n",
    "def max_degree(G):\n",
    "    mx=0\n",
    "    node1=0\n",
    "    for node in G.nodes:\n",
    "        if(G.degree(node)>mx):\n",
    "            mx=G.degree(node)\n",
    "            node1=node\n",
    "\n",
    "    return node1,mx\n",
    "\n",
    "\n",
    "print(max_degree(G))"
   ]
  },
  {
   "cell_type": "code",
   "execution_count": 63,
   "id": "46baa5a3",
   "metadata": {},
   "outputs": [
    {
     "name": "stdout",
     "output_type": "stream",
     "text": [
      "c\n"
     ]
    }
   ],
   "source": [
    "#EXERCISE 3\n",
    "count=defaultdict(int)\n",
    "def mutual_friends(G, node_1, node_2):\n",
    "    con_nodes_1=[]\n",
    "  \n",
    "    for neighbor in G.neighbors(node_1):\n",
    "        con_nodes_1.append(neighbor)\n",
    "    for neighbor in G.neighbors(node_2):\n",
    "        con_nodes_1.append(neighbor)\n",
    "    for i in  con_nodes_1:\n",
    "        count[i]+=1;\n",
    "    return count\n",
    "\n",
    "con_nodes_2=[]\n",
    "con_nodes_2=mutual_friends(G, 'a', 'b')\n",
    "\n",
    "for i in con_nodes_2:\n",
    "    if con_nodes_2[i]>=2:\n",
    "        print(i)"
   ]
  },
  {
   "cell_type": "code",
   "execution_count": null,
   "id": "2ed35ce4",
   "metadata": {},
   "outputs": [],
   "source": []
  }
 ],
 "metadata": {
  "kernelspec": {
   "display_name": "Python 3 (ipykernel)",
   "language": "python",
   "name": "python3"
  },
  "language_info": {
   "codemirror_mode": {
    "name": "ipython",
    "version": 3
   },
   "file_extension": ".py",
   "mimetype": "text/x-python",
   "name": "python",
   "nbconvert_exporter": "python",
   "pygments_lexer": "ipython3",
   "version": "3.9.7"
  }
 },
 "nbformat": 4,
 "nbformat_minor": 5
}
